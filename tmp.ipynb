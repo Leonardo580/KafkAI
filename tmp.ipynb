{
 "cells": [
  {
   "cell_type": "code",
   "id": "initial_id",
   "metadata": {
    "collapsed": true,
    "ExecuteTime": {
     "end_time": "2024-05-29T12:02:23.271011Z",
     "start_time": "2024-05-29T12:02:23.238015Z"
    }
   },
   "source": [
    "from langchain_core.callbacks import StreamingStdOutCallbackHandler\n",
    "from langchain_community.llms.fake import FakeStreamingListLLM\n",
    "from langchain_core.output_parsers import StrOutputParser\n",
    "from langchain_core.prompts import SystemMessagePromptTemplate\n",
    "from langchain_core.runnables import Runnable\n",
    "from operator import itemgetter\n",
    "prompt = (\n",
    "        SystemMessagePromptTemplate.from_template(\"You are a nice assistant.\")\n",
    "        + \"{question}\"\n",
    ")\n",
    "llm = FakeStreamingListLLM(responses=[\"foo-lish ksdf  sdfks dffksd fksd\"])\n",
    "\n",
    "chain: Runnable = prompt | llm | {\"str\": StrOutputParser()} | StreamingStdOutCallbackHandler()\n",
    "\n",
    "def tmp():\n",
    "    chain.stream(\"ss\")"
   ],
   "execution_count": 18,
   "outputs": []
  }
 ],
 "metadata": {
  "kernelspec": {
   "display_name": "Python 3",
   "language": "python",
   "name": "python3"
  },
  "language_info": {
   "codemirror_mode": {
    "name": "ipython",
    "version": 2
   },
   "file_extension": ".py",
   "mimetype": "text/x-python",
   "name": "python",
   "nbconvert_exporter": "python",
   "pygments_lexer": "ipython2",
   "version": "2.7.6"
  }
 },
 "nbformat": 4,
 "nbformat_minor": 5
}
