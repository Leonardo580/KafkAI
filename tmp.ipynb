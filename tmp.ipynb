{
 "cells": [
  {
   "cell_type": "code",
   "id": "initial_id",
   "metadata": {
    "collapsed": true,
    "ExecuteTime": {
     "end_time": "2024-05-29T12:02:23.271011Z",
     "start_time": "2024-05-29T12:02:23.238015Z"
    }
   },
   "source": [
    "from langchain_core.callbacks import StreamingStdOutCallbackHandler\n",
    "from langchain_community.llms.fake import FakeStreamingListLLM\n",
    "from langchain_core.output_parsers import StrOutputParser\n",
    "from langchain_core.prompts import SystemMessagePromptTemplate\n",
    "from langchain_core.runnables import Runnable\n",
    "from operator import itemgetter\n",
    "prompt = (\n",
    "        SystemMessagePromptTemplate.from_template(\"You are a nice assistant.\")\n",
    "        + \"{question}\"\n",
    ")\n",
    "llm = FakeStreamingListLLM(responses=[\"foo-lish ksdf  sdfks dffksd fksd\"])\n",
    "\n",
    "chain: Runnable = prompt | llm | {\"str\": StrOutputParser()} | StreamingStdOutCallbackHandler()\n",
    "\n",
    "def tmp():\n",
    "    chain.stream(\"ss\")"
   ],
   "outputs": [
    {
     "ename": "TypeError",
     "evalue": "Expected a Runnable, callable or dict.Instead got an unsupported type: <class 'langchain_core.callbacks.streaming_stdout.StreamingStdOutCallbackHandler'>",
     "output_type": "error",
     "traceback": [
      "\u001B[1;31m---------------------------------------------------------------------------\u001B[0m",
      "\u001B[1;31mTypeError\u001B[0m                                 Traceback (most recent call last)",
      "Cell \u001B[1;32mIn[18], line 13\u001B[0m\n\u001B[0;32m      7\u001B[0m prompt \u001B[38;5;241m=\u001B[39m (\n\u001B[0;32m      8\u001B[0m         SystemMessagePromptTemplate\u001B[38;5;241m.\u001B[39mfrom_template(\u001B[38;5;124m\"\u001B[39m\u001B[38;5;124mYou are a nice assistant.\u001B[39m\u001B[38;5;124m\"\u001B[39m)\n\u001B[0;32m      9\u001B[0m         \u001B[38;5;241m+\u001B[39m \u001B[38;5;124m\"\u001B[39m\u001B[38;5;132;01m{question}\u001B[39;00m\u001B[38;5;124m\"\u001B[39m\n\u001B[0;32m     10\u001B[0m )\n\u001B[0;32m     11\u001B[0m llm \u001B[38;5;241m=\u001B[39m FakeStreamingListLLM(responses\u001B[38;5;241m=\u001B[39m[\u001B[38;5;124m\"\u001B[39m\u001B[38;5;124mfoo-lish ksdf  sdfks dffksd fksd\u001B[39m\u001B[38;5;124m\"\u001B[39m])\n\u001B[1;32m---> 13\u001B[0m chain: Runnable \u001B[38;5;241m=\u001B[39m prompt \u001B[38;5;241m|\u001B[39m llm \u001B[38;5;241m|\u001B[39m {\u001B[38;5;124m\"\u001B[39m\u001B[38;5;124mstr\u001B[39m\u001B[38;5;124m\"\u001B[39m: StrOutputParser()} \u001B[38;5;241m|\u001B[39m StreamingStdOutCallbackHandler()\n\u001B[0;32m     15\u001B[0m \u001B[38;5;28;01mdef\u001B[39;00m \u001B[38;5;21mtmp\u001B[39m():\n\u001B[0;32m     16\u001B[0m     chain\u001B[38;5;241m.\u001B[39mstream(\u001B[38;5;124m\"\u001B[39m\u001B[38;5;124mss\u001B[39m\u001B[38;5;124m\"\u001B[39m)\n",
      "File \u001B[1;32m~\\miniconda3\\Lib\\site-packages\\langchain_core\\runnables\\base.py:2344\u001B[0m, in \u001B[0;36mRunnableSequence.__or__\u001B[1;34m(self, other)\u001B[0m\n\u001B[0;32m   2330\u001B[0m     \u001B[38;5;28;01mreturn\u001B[39;00m RunnableSequence(\n\u001B[0;32m   2331\u001B[0m         \u001B[38;5;28mself\u001B[39m\u001B[38;5;241m.\u001B[39mfirst,\n\u001B[0;32m   2332\u001B[0m         \u001B[38;5;241m*\u001B[39m\u001B[38;5;28mself\u001B[39m\u001B[38;5;241m.\u001B[39mmiddle,\n\u001B[1;32m   (...)\u001B[0m\n\u001B[0;32m   2337\u001B[0m         name\u001B[38;5;241m=\u001B[39m\u001B[38;5;28mself\u001B[39m\u001B[38;5;241m.\u001B[39mname \u001B[38;5;129;01mor\u001B[39;00m other\u001B[38;5;241m.\u001B[39mname,\n\u001B[0;32m   2338\u001B[0m     )\n\u001B[0;32m   2339\u001B[0m \u001B[38;5;28;01melse\u001B[39;00m:\n\u001B[0;32m   2340\u001B[0m     \u001B[38;5;28;01mreturn\u001B[39;00m RunnableSequence(\n\u001B[0;32m   2341\u001B[0m         \u001B[38;5;28mself\u001B[39m\u001B[38;5;241m.\u001B[39mfirst,\n\u001B[0;32m   2342\u001B[0m         \u001B[38;5;241m*\u001B[39m\u001B[38;5;28mself\u001B[39m\u001B[38;5;241m.\u001B[39mmiddle,\n\u001B[0;32m   2343\u001B[0m         \u001B[38;5;28mself\u001B[39m\u001B[38;5;241m.\u001B[39mlast,\n\u001B[1;32m-> 2344\u001B[0m         coerce_to_runnable(other),\n\u001B[0;32m   2345\u001B[0m         name\u001B[38;5;241m=\u001B[39m\u001B[38;5;28mself\u001B[39m\u001B[38;5;241m.\u001B[39mname,\n\u001B[0;32m   2346\u001B[0m     )\n",
      "File \u001B[1;32m~\\miniconda3\\Lib\\site-packages\\langchain_core\\runnables\\base.py:4885\u001B[0m, in \u001B[0;36mcoerce_to_runnable\u001B[1;34m(thing)\u001B[0m\n\u001B[0;32m   4883\u001B[0m     \u001B[38;5;28;01mreturn\u001B[39;00m cast(Runnable[Input, Output], RunnableParallel(thing))\n\u001B[0;32m   4884\u001B[0m \u001B[38;5;28;01melse\u001B[39;00m:\n\u001B[1;32m-> 4885\u001B[0m     \u001B[38;5;28;01mraise\u001B[39;00m \u001B[38;5;167;01mTypeError\u001B[39;00m(\n\u001B[0;32m   4886\u001B[0m         \u001B[38;5;124mf\u001B[39m\u001B[38;5;124m\"\u001B[39m\u001B[38;5;124mExpected a Runnable, callable or dict.\u001B[39m\u001B[38;5;124m\"\u001B[39m\n\u001B[0;32m   4887\u001B[0m         \u001B[38;5;124mf\u001B[39m\u001B[38;5;124m\"\u001B[39m\u001B[38;5;124mInstead got an unsupported type: \u001B[39m\u001B[38;5;132;01m{\u001B[39;00m\u001B[38;5;28mtype\u001B[39m(thing)\u001B[38;5;132;01m}\u001B[39;00m\u001B[38;5;124m\"\u001B[39m\n\u001B[0;32m   4888\u001B[0m     )\n",
      "\u001B[1;31mTypeError\u001B[0m: Expected a Runnable, callable or dict.Instead got an unsupported type: <class 'langchain_core.callbacks.streaming_stdout.StreamingStdOutCallbackHandler'>"
     ]
    }
   ],
   "execution_count": 18
  }
 ],
 "metadata": {
  "kernelspec": {
   "display_name": "Python 3",
   "language": "python",
   "name": "python3"
  },
  "language_info": {
   "codemirror_mode": {
    "name": "ipython",
    "version": 2
   },
   "file_extension": ".py",
   "mimetype": "text/x-python",
   "name": "python",
   "nbconvert_exporter": "python",
   "pygments_lexer": "ipython2",
   "version": "2.7.6"
  }
 },
 "nbformat": 4,
 "nbformat_minor": 5
}
